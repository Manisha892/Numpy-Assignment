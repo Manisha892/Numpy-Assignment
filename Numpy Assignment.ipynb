{
 "cells": [
  {
   "cell_type": "markdown",
   "id": "9ac4a8c3-f3bf-4b44-9c50-fb0571080bb8",
   "metadata": {},
   "source": [
    "## Question(1) Create a 3x3 NumPy array with random integers between 1 and 100. Then, interchange its rows and columns."
   ]
  },
  {
   "cell_type": "markdown",
   "id": "70d4b070-7b44-450c-be18-0a689305497e",
   "metadata": {},
   "source": [
    "### Answer :  3x3 NumPy array with random integers between 1 and 100"
   ]
  },
  {
   "cell_type": "code",
   "execution_count": 18,
   "id": "4bd9ad52-5a4b-49d0-9320-13fa934f1aaa",
   "metadata": {},
   "outputs": [],
   "source": [
    "import numpy as np"
   ]
  },
  {
   "cell_type": "code",
   "execution_count": 24,
   "id": "9aba7839-902f-48f6-9f01-2369356181f4",
   "metadata": {},
   "outputs": [],
   "source": [
    "import random"
   ]
  },
  {
   "cell_type": "code",
   "execution_count": 16,
   "id": "2261c18d-c335-45d7-aae9-95b622fe3842",
   "metadata": {},
   "outputs": [
    {
     "data": {
      "text/plain": [
       "54"
      ]
     },
     "execution_count": 16,
     "metadata": {},
     "output_type": "execute_result"
    }
   ],
   "source": [
    "random.randrange(1,100)"
   ]
  },
  {
   "cell_type": "code",
   "execution_count": 34,
   "id": "57a463d5-e28f-4e2c-bd15-ab2cea5551e3",
   "metadata": {},
   "outputs": [
    {
     "data": {
      "text/plain": [
       "array([[[0.06479916, 0.20817193, 0.62744185],\n",
       "        [0.98086584, 0.56549205, 0.09726546],\n",
       "        [0.33983026, 0.41856725, 0.84771493]]])"
      ]
     },
     "execution_count": 34,
     "metadata": {},
     "output_type": "execute_result"
    }
   ],
   "source": [
    "np.random.rand(1,3,3)"
   ]
  },
  {
   "cell_type": "code",
   "execution_count": 36,
   "id": "a8829a6e-12f4-4827-88e8-c7aee6299747",
   "metadata": {},
   "outputs": [],
   "source": [
    "a = np.random.rand(1,3,3)"
   ]
  },
  {
   "cell_type": "code",
   "execution_count": 42,
   "id": "3482fd76-c98f-473b-9062-db5f573b696d",
   "metadata": {},
   "outputs": [
    {
     "data": {
      "text/plain": [
       "3"
      ]
     },
     "execution_count": 42,
     "metadata": {},
     "output_type": "execute_result"
    }
   ],
   "source": [
    "a.ndim"
   ]
  },
  {
   "cell_type": "code",
   "execution_count": 44,
   "id": "dec502dd-91aa-4f0d-9464-cb5ca29745c7",
   "metadata": {},
   "outputs": [
    {
     "data": {
      "text/plain": [
       "array([[ 1, 92, 46],\n",
       "       [95, 11, 72],\n",
       "       [63, 63, 59]])"
      ]
     },
     "execution_count": 44,
     "metadata": {},
     "output_type": "execute_result"
    }
   ],
   "source": [
    "np.random.randint(1,100,size=(3,3))"
   ]
  },
  {
   "cell_type": "code",
   "execution_count": 59,
   "id": "4c271b47-2e6c-4650-ab3c-8a36c4d053e4",
   "metadata": {},
   "outputs": [],
   "source": [
    "arr = np.random.randint(1,100,size=(3,3))"
   ]
  },
  {
   "cell_type": "code",
   "execution_count": 61,
   "id": "193875ee-1587-4e0a-bda7-45c2c32c16d4",
   "metadata": {},
   "outputs": [
    {
     "data": {
      "text/plain": [
       "array([[59, 21, 58],\n",
       "       [14,  8, 93],\n",
       "       [32, 86, 21]])"
      ]
     },
     "execution_count": 61,
     "metadata": {},
     "output_type": "execute_result"
    }
   ],
   "source": [
    "arr"
   ]
  },
  {
   "cell_type": "markdown",
   "id": "ea2ce27f-7ff7-4674-b708-02cbeeaeecdb",
   "metadata": {},
   "source": [
    "### Interchange its rows and columns"
   ]
  },
  {
   "cell_type": "code",
   "execution_count": 63,
   "id": "3fcaa154-d0ff-48fe-980f-08c07fa77ab0",
   "metadata": {},
   "outputs": [
    {
     "data": {
      "text/plain": [
       "array([[59, 21, 58],\n",
       "       [14,  8, 93],\n",
       "       [32, 86, 21]])"
      ]
     },
     "execution_count": 63,
     "metadata": {},
     "output_type": "execute_result"
    }
   ],
   "source": [
    "arr"
   ]
  },
  {
   "cell_type": "code",
   "execution_count": 67,
   "id": "f5196550-fa42-45f9-9f4f-88cfe5bbcccc",
   "metadata": {},
   "outputs": [
    {
     "data": {
      "text/plain": [
       "array([[59, 14, 32],\n",
       "       [21,  8, 86],\n",
       "       [58, 93, 21]])"
      ]
     },
     "execution_count": 67,
     "metadata": {},
     "output_type": "execute_result"
    }
   ],
   "source": [
    "# Transpose of the array when interchange its rows to columns and columns to rows.\n",
    "arr.T"
   ]
  },
  {
   "cell_type": "markdown",
   "id": "8a6a02cb-45e7-451c-8fc6-60542e3c9778",
   "metadata": {},
   "source": [
    "## Question(2) Generate a 1D NumPy array with 10 elements. Reshape it into a 2x5 array, then into a 5x2 array."
   ]
  },
  {
   "cell_type": "markdown",
   "id": "f11ea4ad-cf70-4b9c-ad01-f0975626e7a2",
   "metadata": {},
   "source": [
    "### Answer : Generate a 1D NumPy array with 10 elements."
   ]
  },
  {
   "cell_type": "code",
   "execution_count": 71,
   "id": "d15da95f-bd9c-433b-a0a1-99bdd1e75909",
   "metadata": {},
   "outputs": [],
   "source": [
    "import numpy as np"
   ]
  },
  {
   "cell_type": "code",
   "execution_count": 73,
   "id": "fa8cc9b3-d993-479a-9e84-8880cb458b92",
   "metadata": {},
   "outputs": [],
   "source": [
    "arr1 = np.array([1,2,3,4,5,6,7,8,9,55])"
   ]
  },
  {
   "cell_type": "code",
   "execution_count": 75,
   "id": "9fa1fd63-320d-40bb-9466-06bd019031f0",
   "metadata": {},
   "outputs": [
    {
     "data": {
      "text/plain": [
       "array([ 1,  2,  3,  4,  5,  6,  7,  8,  9, 55])"
      ]
     },
     "execution_count": 75,
     "metadata": {},
     "output_type": "execute_result"
    }
   ],
   "source": [
    "arr1"
   ]
  },
  {
   "cell_type": "code",
   "execution_count": 77,
   "id": "4e74cbbe-6826-49f4-a425-d3de006f0f84",
   "metadata": {},
   "outputs": [
    {
     "data": {
      "text/plain": [
       "1"
      ]
     },
     "execution_count": 77,
     "metadata": {},
     "output_type": "execute_result"
    }
   ],
   "source": [
    "arr1.ndim"
   ]
  },
  {
   "cell_type": "markdown",
   "id": "56fe5463-44fc-472a-85fe-02af97ef619d",
   "metadata": {},
   "source": [
    "#### Reshape arr1 into a 2x5 array."
   ]
  },
  {
   "cell_type": "code",
   "execution_count": 85,
   "id": "2235286c-2a77-4010-ac31-2254614f490a",
   "metadata": {},
   "outputs": [
    {
     "data": {
      "text/plain": [
       "array([ 1,  2,  3,  4,  5,  6,  7,  8,  9, 55])"
      ]
     },
     "execution_count": 85,
     "metadata": {},
     "output_type": "execute_result"
    }
   ],
   "source": [
    "arr1"
   ]
  },
  {
   "cell_type": "code",
   "execution_count": 87,
   "id": "e84827f5-7af1-4bea-8113-40b88839fe61",
   "metadata": {},
   "outputs": [
    {
     "data": {
      "text/plain": [
       "array([[ 1,  2,  3,  4,  5],\n",
       "       [ 6,  7,  8,  9, 55]])"
      ]
     },
     "execution_count": 87,
     "metadata": {},
     "output_type": "execute_result"
    }
   ],
   "source": [
    "# Returns an array containing the same data with a new shape.\n",
    "\n",
    "arr1.reshape(2,5)"
   ]
  },
  {
   "cell_type": "markdown",
   "id": "c219d4b6-72cf-483f-967e-1b539812ad7f",
   "metadata": {},
   "source": [
    "#### Reshape arr1 into a 5x2 array."
   ]
  },
  {
   "cell_type": "code",
   "execution_count": 93,
   "id": "573aade3-ec4a-4258-86be-ed1a694e67e2",
   "metadata": {},
   "outputs": [
    {
     "data": {
      "text/plain": [
       "array([ 1,  2,  3,  4,  5,  6,  7,  8,  9, 55])"
      ]
     },
     "execution_count": 93,
     "metadata": {},
     "output_type": "execute_result"
    }
   ],
   "source": [
    "arr1"
   ]
  },
  {
   "cell_type": "code",
   "execution_count": 97,
   "id": "804a25c6-e298-42a4-8106-09fa3d59d0b0",
   "metadata": {},
   "outputs": [
    {
     "data": {
      "text/plain": [
       "array([[ 1,  2],\n",
       "       [ 3,  4],\n",
       "       [ 5,  6],\n",
       "       [ 7,  8],\n",
       "       [ 9, 55]])"
      ]
     },
     "execution_count": 97,
     "metadata": {},
     "output_type": "execute_result"
    }
   ],
   "source": [
    "# Returns an array containing the same data with a new shape.\n",
    "arr1.reshape(5,2)"
   ]
  },
  {
   "cell_type": "code",
   "execution_count": 99,
   "id": "528d194b-6abc-4741-b4ab-69ca4f8e04af",
   "metadata": {},
   "outputs": [
    {
     "data": {
      "text/plain": [
       "1"
      ]
     },
     "execution_count": 99,
     "metadata": {},
     "output_type": "execute_result"
    }
   ],
   "source": [
    "arr1.ndim"
   ]
  },
  {
   "cell_type": "markdown",
   "id": "40950f0e-18c0-491c-ad9a-69702a428da2",
   "metadata": {},
   "source": [
    "## Question (3) Create a 4x4 NumPy array with random float values. Add a border of zeros around it, resulting in a 6x6 array."
   ]
  },
  {
   "cell_type": "markdown",
   "id": "b1496705-5464-48a2-b0ec-0c98a59e29ec",
   "metadata": {},
   "source": [
    "### Answer : Create a 4x4 NumPy array with random float values"
   ]
  },
  {
   "cell_type": "code",
   "execution_count": 122,
   "id": "616a5c18-5d7d-48cd-ae0e-bc4b2d0f4453",
   "metadata": {},
   "outputs": [
    {
     "data": {
      "text/plain": [
       "array([[0.61233918, 0.00275728, 0.92925369, 0.63609495],\n",
       "       [0.0650356 , 0.41303198, 0.07991331, 0.24663442],\n",
       "       [0.45540131, 0.80969873, 0.86170404, 0.23265038],\n",
       "       [0.69329175, 0.28155558, 0.5029211 , 0.89158418]])"
      ]
     },
     "execution_count": 122,
     "metadata": {},
     "output_type": "execute_result"
    }
   ],
   "source": [
    "np.random.rand(4,4)"
   ]
  },
  {
   "cell_type": "code",
   "execution_count": 448,
   "id": "6c230e68-565e-42b5-881c-e5a90fba8e1e",
   "metadata": {},
   "outputs": [],
   "source": [
    "arr = np.random.rand(4,4)"
   ]
  },
  {
   "cell_type": "markdown",
   "id": "627d2ac6-b426-4702-853a-ada387c3f6fb",
   "metadata": {},
   "source": [
    "#### Add a border of zeros around it, resulting in a 6x6 array."
   ]
  },
  {
   "cell_type": "code",
   "execution_count": 450,
   "id": "8d7136c0-2a11-4413-b493-9b222408fbcb",
   "metadata": {},
   "outputs": [
    {
     "data": {
      "text/plain": [
       "array([[0.21877333, 0.55763063, 0.47698926, 0.07857523],\n",
       "       [0.23249264, 0.42290332, 0.9772761 , 0.49878104],\n",
       "       [0.42609432, 0.76615053, 0.0542713 , 0.21018101],\n",
       "       [0.4628962 , 0.77979147, 0.14489275, 0.62296157]])"
      ]
     },
     "execution_count": 450,
     "metadata": {},
     "output_type": "execute_result"
    }
   ],
   "source": [
    "arr"
   ]
  },
  {
   "cell_type": "code",
   "execution_count": 464,
   "id": "a702d629-5185-4e42-adcd-641c49a04831",
   "metadata": {},
   "outputs": [],
   "source": [
    "#Number of values padded to the edges of each axis.\n",
    "\n",
    "arr_with_border = np.pad(arr,pad_width=1,mode=\"constant\",constant_values=0)"
   ]
  },
  {
   "cell_type": "code",
   "execution_count": 466,
   "id": "804d52d8-add1-4e08-aa38-08d101bbc82d",
   "metadata": {},
   "outputs": [
    {
     "name": "stdout",
     "output_type": "stream",
     "text": [
      "[[0.         0.         0.         0.         0.         0.        ]\n",
      " [0.         0.21877333 0.55763063 0.47698926 0.07857523 0.        ]\n",
      " [0.         0.23249264 0.42290332 0.9772761  0.49878104 0.        ]\n",
      " [0.         0.42609432 0.76615053 0.0542713  0.21018101 0.        ]\n",
      " [0.         0.4628962  0.77979147 0.14489275 0.62296157 0.        ]\n",
      " [0.         0.         0.         0.         0.         0.        ]]\n"
     ]
    }
   ],
   "source": [
    "print(arr_with_border)"
   ]
  },
  {
   "cell_type": "code",
   "execution_count": null,
   "id": "121b1333-4c5a-4c71-8c86-69a0c9b42920",
   "metadata": {},
   "outputs": [],
   "source": [
    "#The np.pad function is used to add a padding of width 1 around the array, and constant_values=0 specifies that the padding should consist of zeros. \n",
    "#The resulting array will be 6x6 with a border of zeros."
   ]
  },
  {
   "cell_type": "markdown",
   "id": "207f0872-910b-4062-80c0-23d39c2f96f0",
   "metadata": {},
   "source": [
    "## Question (4) Using NumPy, create an array of integers from 10 to 60 with a step of 5."
   ]
  },
  {
   "cell_type": "markdown",
   "id": "735d7be8-f0c8-4219-9342-759d6b10c52f",
   "metadata": {},
   "source": [
    "### Answer : create an array of integers from 10 to 60 "
   ]
  },
  {
   "cell_type": "code",
   "execution_count": 5,
   "id": "9899f128-0332-4a98-95ff-03f61bfa4c57",
   "metadata": {},
   "outputs": [
    {
     "data": {
      "text/plain": [
       "array([10, 11, 12, 13, 14, 15, 16, 17, 18, 19, 20, 21, 22, 23, 24, 25, 26,\n",
       "       27, 28, 29, 30, 31, 32, 33, 34, 35, 36, 37, 38, 39, 40, 41, 42, 43,\n",
       "       44, 45, 46, 47, 48, 49, 50, 51, 52, 53, 54, 55, 56, 57, 58, 59])"
      ]
     },
     "execution_count": 5,
     "metadata": {},
     "output_type": "execute_result"
    }
   ],
   "source": [
    "import numpy as np\n",
    "np.arange(10,60)"
   ]
  },
  {
   "cell_type": "markdown",
   "id": "2bbff3b8-8963-49f5-9dab-40a1dd245b5f",
   "metadata": {},
   "source": [
    "#### Create an array of integers from 10 to 60 with a step of 5."
   ]
  },
  {
   "cell_type": "code",
   "execution_count": 37,
   "id": "1adf1216-bcdf-4ebe-b6ec-16f02e6ad2b8",
   "metadata": {},
   "outputs": [],
   "source": [
    "# Return evenly spaced values within a given interval.\n",
    "# \"arange\" can be called with a varying number of positional arguments.\n",
    "\n",
    "arr = np.arange(10,60)"
   ]
  },
  {
   "cell_type": "code",
   "execution_count": 39,
   "id": "907f4a1a-31bc-4338-85d1-bb7b3215fb85",
   "metadata": {},
   "outputs": [
    {
     "data": {
      "text/plain": [
       "array([10, 11, 12, 13, 14, 15, 16, 17, 18, 19, 20, 21, 22, 23, 24, 25, 26,\n",
       "       27, 28, 29, 30, 31, 32, 33, 34, 35, 36, 37, 38, 39, 40, 41, 42, 43,\n",
       "       44, 45, 46, 47, 48, 49, 50, 51, 52, 53, 54, 55, 56, 57, 58, 59])"
      ]
     },
     "execution_count": 39,
     "metadata": {},
     "output_type": "execute_result"
    }
   ],
   "source": [
    "arr"
   ]
  },
  {
   "cell_type": "code",
   "execution_count": 41,
   "id": "a5a52257-e748-47c0-a0a0-c5c8f7db6bce",
   "metadata": {},
   "outputs": [
    {
     "data": {
      "text/plain": [
       "array([10, 15, 20, 25, 30, 35, 40, 45, 50, 55])"
      ]
     },
     "execution_count": 41,
     "metadata": {},
     "output_type": "execute_result"
    }
   ],
   "source": [
    "arr[0:60:5]                   # [start:end:step]"
   ]
  },
  {
   "cell_type": "code",
   "execution_count": 35,
   "id": "a5b535d8-2907-43f8-b303-7b538e4d62b2",
   "metadata": {},
   "outputs": [
    {
     "data": {
      "text/plain": [
       "array([10, 15, 20, 25, 30, 35, 40, 45, 50, 55])"
      ]
     },
     "execution_count": 35,
     "metadata": {},
     "output_type": "execute_result"
    }
   ],
   "source": [
    "np.arange(10,60,5)"
   ]
  },
  {
   "cell_type": "code",
   "execution_count": 442,
   "id": "840510b5-2878-43fb-b091-071ea6d64784",
   "metadata": {},
   "outputs": [
    {
     "data": {
      "text/plain": [
       "array([10, 15, 20, 25, 30, 35, 40, 45, 50, 55, 60])"
      ]
     },
     "execution_count": 442,
     "metadata": {},
     "output_type": "execute_result"
    }
   ],
   "source": [
    "np.arange(10,61,5)"
   ]
  },
  {
   "cell_type": "markdown",
   "id": "53f41b12-f6de-46d5-b6a7-cb9f8bbbc6e1",
   "metadata": {},
   "source": [
    "## Question (5) Create a NumPy array of strings ['python', 'numpy', 'pandas']. Apply different case transformations (uppercase, lowercase, title case, etc.) to each element"
   ]
  },
  {
   "cell_type": "markdown",
   "id": "657ee54c-a485-4467-99b5-0f903016a1da",
   "metadata": {},
   "source": [
    "### Answer : NumPy array of strings ['python', 'numpy', 'pandas']"
   ]
  },
  {
   "cell_type": "code",
   "execution_count": 128,
   "id": "e66195cd-66c1-466d-8531-9b74755ea126",
   "metadata": {},
   "outputs": [
    {
     "data": {
      "text/plain": [
       "array(['python', 'numpy', 'pandas'], dtype='<U6')"
      ]
     },
     "execution_count": 128,
     "metadata": {},
     "output_type": "execute_result"
    }
   ],
   "source": [
    "np.array([\"python\",\"numpy\",\"pandas\"])"
   ]
  },
  {
   "cell_type": "code",
   "execution_count": 131,
   "id": "8bef1cca-fe24-41e6-82b0-54d04022eb79",
   "metadata": {},
   "outputs": [],
   "source": [
    "a = np.array([\"python\",\"numpy\",\"pandas\"])"
   ]
  },
  {
   "cell_type": "code",
   "execution_count": 133,
   "id": "6b0300da-b9e2-45ec-8335-87edcd6df723",
   "metadata": {},
   "outputs": [
    {
     "data": {
      "text/plain": [
       "array(['python', 'numpy', 'pandas'], dtype='<U6')"
      ]
     },
     "execution_count": 133,
     "metadata": {},
     "output_type": "execute_result"
    }
   ],
   "source": [
    "a"
   ]
  },
  {
   "cell_type": "markdown",
   "id": "a6059cf8-e8ad-4591-a167-c9994711f06d",
   "metadata": {},
   "source": [
    "### Different case transformations \n",
    "### Uppercase"
   ]
  },
  {
   "cell_type": "code",
   "execution_count": 135,
   "id": "d9a90f1f-83b5-4d71-ad5f-a71bb00f7694",
   "metadata": {},
   "outputs": [
    {
     "data": {
      "text/plain": [
       "array(['PYTHON', 'NUMPY', 'PANDAS'], dtype='<U6')"
      ]
     },
     "execution_count": 135,
     "metadata": {},
     "output_type": "execute_result"
    }
   ],
   "source": [
    "# Return an array with the elements converted to uppercase.\n",
    "np.char.upper(a)"
   ]
  },
  {
   "cell_type": "markdown",
   "id": "cf23289e-5032-4ae1-90d9-77505486813b",
   "metadata": {},
   "source": [
    "#### Lowercase"
   ]
  },
  {
   "cell_type": "code",
   "execution_count": 137,
   "id": "be9835c9-85df-4166-b6ce-7dea9ba7e6dc",
   "metadata": {},
   "outputs": [
    {
     "data": {
      "text/plain": [
       "array(['python', 'numpy', 'pandas'], dtype='<U6')"
      ]
     },
     "execution_count": 137,
     "metadata": {},
     "output_type": "execute_result"
    }
   ],
   "source": [
    "# Return an array with the elements converted to lowercase.\n",
    "np.char.lower(a)"
   ]
  },
  {
   "cell_type": "markdown",
   "id": "98ea471c-a20b-4e4f-9b9d-d9da9bf10156",
   "metadata": {},
   "source": [
    "#### Title case"
   ]
  },
  {
   "cell_type": "code",
   "execution_count": 151,
   "id": "81a4024f-1308-4d8c-a2e8-28838acf774f",
   "metadata": {},
   "outputs": [
    {
     "data": {
      "text/plain": [
       "array(['Python', 'Numpy', 'Pandas'], dtype='<U6')"
      ]
     },
     "execution_count": 151,
     "metadata": {},
     "output_type": "execute_result"
    }
   ],
   "source": [
    "# Return an array with the each elements first character converted to uppercase.\n",
    "# In case use title or capitalize format.\n",
    "\n",
    "np.char.title(a)"
   ]
  },
  {
   "cell_type": "markdown",
   "id": "bf10c9d5-46cd-42e5-9138-7bab76696d91",
   "metadata": {},
   "source": [
    "#### Capitalized"
   ]
  },
  {
   "cell_type": "code",
   "execution_count": 148,
   "id": "76537ee1-d12d-4ffb-830f-8bde532c7df6",
   "metadata": {},
   "outputs": [
    {
     "data": {
      "text/plain": [
       "array(['Python', 'Numpy', 'Pandas'], dtype='<U6')"
      ]
     },
     "execution_count": 148,
     "metadata": {},
     "output_type": "execute_result"
    }
   ],
   "source": [
    "# Return a copy of `a` with only the first character of each element capitalized.\n",
    "\n",
    "np.char.capitalize(a)"
   ]
  },
  {
   "cell_type": "markdown",
   "id": "b8bd33b9-44fd-494f-960c-a2f2ce7d75ba",
   "metadata": {},
   "source": [
    "## Question (6) Generate a NumPy array of words. Insert a space between each character of every word in the array"
   ]
  },
  {
   "cell_type": "markdown",
   "id": "923ff0f1-008c-4188-84c5-ad29c263cbe3",
   "metadata": {},
   "source": [
    "### Answer :  Generate a NumPy array of words"
   ]
  },
  {
   "cell_type": "code",
   "execution_count": 413,
   "id": "49154366-4e22-4bf3-8bf9-e601e7273e00",
   "metadata": {},
   "outputs": [],
   "source": [
    "arr = np.array([\"Manisha\",\"Annu\",\"Santu\"])"
   ]
  },
  {
   "cell_type": "code",
   "execution_count": 415,
   "id": "1cfe0f4b-5966-4b89-b731-a8243da35e4b",
   "metadata": {},
   "outputs": [
    {
     "data": {
      "text/plain": [
       "array(['Manisha', 'Annu', 'Santu'], dtype='<U7')"
      ]
     },
     "execution_count": 415,
     "metadata": {},
     "output_type": "execute_result"
    }
   ],
   "source": [
    "arr"
   ]
  },
  {
   "cell_type": "markdown",
   "id": "428d8aa7-af8f-47b1-9302-0d97d6eb3898",
   "metadata": {},
   "source": [
    "#### Insert a space between each character of every word in the array¶"
   ]
  },
  {
   "cell_type": "code",
   "execution_count": 429,
   "id": "6c508363-45a6-495a-bfa2-e956c074a68c",
   "metadata": {},
   "outputs": [
    {
     "data": {
      "text/plain": [
       "array(['Manisha', 'Annu', 'Santu'], dtype='<U7')"
      ]
     },
     "execution_count": 429,
     "metadata": {},
     "output_type": "execute_result"
    }
   ],
   "source": [
    "arr"
   ]
  },
  {
   "cell_type": "code",
   "execution_count": 425,
   "id": "5b99a328-f6aa-47a8-a4a4-d0ac5216b7a4",
   "metadata": {},
   "outputs": [],
   "source": [
    "spaced_words = np.array([' '.join(list(word)) for word in arr])"
   ]
  },
  {
   "cell_type": "code",
   "execution_count": 427,
   "id": "e43b8554-4428-4dd0-99c9-da7826ebe062",
   "metadata": {},
   "outputs": [
    {
     "name": "stdout",
     "output_type": "stream",
     "text": [
      "['M a n i s h a' 'A n n u' 'S a n t u']\n"
     ]
    }
   ],
   "source": [
    "print(spaced_words)"
   ]
  },
  {
   "cell_type": "markdown",
   "id": "d67fd8da-6973-46bf-bac1-896cd1c9fd5c",
   "metadata": {},
   "source": [
    "## Question (7) Create two 2D NumPy arrays and perform element-wise addition, subtraction, multiplication, and division."
   ]
  },
  {
   "cell_type": "markdown",
   "id": "c4ba438b-4872-4325-924d-0a8ee9118bbd",
   "metadata": {},
   "source": [
    "### Answer : Create two 2D NumPy arrays "
   ]
  },
  {
   "cell_type": "code",
   "execution_count": 178,
   "id": "bbccff79-3d8c-4d2b-a12d-6ea40c4c02c2",
   "metadata": {},
   "outputs": [],
   "source": [
    "arr1 = np.array([[1,2,3],[4,5,6],[7,8,9]])"
   ]
  },
  {
   "cell_type": "code",
   "execution_count": 180,
   "id": "f91bc336-84b2-42f6-a3d9-e6a10157ce45",
   "metadata": {},
   "outputs": [
    {
     "data": {
      "text/plain": [
       "array([[1, 2, 3],\n",
       "       [4, 5, 6],\n",
       "       [7, 8, 9]])"
      ]
     },
     "execution_count": 180,
     "metadata": {},
     "output_type": "execute_result"
    }
   ],
   "source": [
    "arr1"
   ]
  },
  {
   "cell_type": "code",
   "execution_count": 182,
   "id": "accb5a9c-0f41-4875-a97e-ffb3fcd0dbf6",
   "metadata": {},
   "outputs": [
    {
     "data": {
      "text/plain": [
       "2"
      ]
     },
     "execution_count": 182,
     "metadata": {},
     "output_type": "execute_result"
    }
   ],
   "source": [
    "arr1.ndim"
   ]
  },
  {
   "cell_type": "code",
   "execution_count": 184,
   "id": "f8262603-a5d9-44b6-9653-3d932440a32e",
   "metadata": {},
   "outputs": [],
   "source": [
    "arr2 = np.array([[4,7,9],[3,6,8],[1,2,5]])"
   ]
  },
  {
   "cell_type": "code",
   "execution_count": 186,
   "id": "54f69f14-773b-4a85-9006-a674eb28ec34",
   "metadata": {},
   "outputs": [
    {
     "data": {
      "text/plain": [
       "array([[4, 7, 9],\n",
       "       [3, 6, 8],\n",
       "       [1, 2, 5]])"
      ]
     },
     "execution_count": 186,
     "metadata": {},
     "output_type": "execute_result"
    }
   ],
   "source": [
    "arr2"
   ]
  },
  {
   "cell_type": "code",
   "execution_count": 188,
   "id": "4028065d-97a6-4897-8cbb-eb7010094c97",
   "metadata": {},
   "outputs": [
    {
     "data": {
      "text/plain": [
       "2"
      ]
     },
     "execution_count": 188,
     "metadata": {},
     "output_type": "execute_result"
    }
   ],
   "source": [
    "arr2.ndim"
   ]
  },
  {
   "cell_type": "markdown",
   "id": "f5dd5652-0cfa-41a0-8039-10527ad27748",
   "metadata": {},
   "source": [
    "#### Perform element-wise \n",
    "#### Addition"
   ]
  },
  {
   "cell_type": "code",
   "execution_count": 193,
   "id": "d4a143d9-1c4e-442e-a729-29bd87af4002",
   "metadata": {},
   "outputs": [
    {
     "data": {
      "text/plain": [
       "array([[1, 2, 3],\n",
       "       [4, 5, 6],\n",
       "       [7, 8, 9]])"
      ]
     },
     "execution_count": 193,
     "metadata": {},
     "output_type": "execute_result"
    }
   ],
   "source": [
    "arr1"
   ]
  },
  {
   "cell_type": "code",
   "execution_count": 195,
   "id": "1028bfd9-e723-4939-b287-933b1918623b",
   "metadata": {},
   "outputs": [
    {
     "data": {
      "text/plain": [
       "array([[4, 7, 9],\n",
       "       [3, 6, 8],\n",
       "       [1, 2, 5]])"
      ]
     },
     "execution_count": 195,
     "metadata": {},
     "output_type": "execute_result"
    }
   ],
   "source": [
    "arr2"
   ]
  },
  {
   "cell_type": "code",
   "execution_count": 191,
   "id": "4d0f74fa-0fba-4a53-b380-3fa2c8c99c29",
   "metadata": {},
   "outputs": [
    {
     "data": {
      "text/plain": [
       "array([[ 5,  9, 12],\n",
       "       [ 7, 11, 14],\n",
       "       [ 8, 10, 14]])"
      ]
     },
     "execution_count": 191,
     "metadata": {},
     "output_type": "execute_result"
    }
   ],
   "source": [
    "arr1 + arr2"
   ]
  },
  {
   "cell_type": "markdown",
   "id": "e7ee1336-af24-4fd5-8eaf-73d59b672b84",
   "metadata": {},
   "source": [
    "#### Subtraction"
   ]
  },
  {
   "cell_type": "code",
   "execution_count": 202,
   "id": "80f16b7c-7f22-4545-ba97-2fc7849e10ae",
   "metadata": {},
   "outputs": [
    {
     "data": {
      "text/plain": [
       "array([[-3, -5, -6],\n",
       "       [ 1, -1, -2],\n",
       "       [ 6,  6,  4]])"
      ]
     },
     "execution_count": 202,
     "metadata": {},
     "output_type": "execute_result"
    }
   ],
   "source": [
    "arr1 - arr2"
   ]
  },
  {
   "cell_type": "markdown",
   "id": "f18cbb0e-e24b-4801-ba2c-a74a9673acf7",
   "metadata": {},
   "source": [
    "#### Multiplication"
   ]
  },
  {
   "cell_type": "code",
   "execution_count": 204,
   "id": "0bc348db-7398-442c-8318-54f2b0d54285",
   "metadata": {},
   "outputs": [
    {
     "data": {
      "text/plain": [
       "array([[ 4, 14, 27],\n",
       "       [12, 30, 48],\n",
       "       [ 7, 16, 45]])"
      ]
     },
     "execution_count": 204,
     "metadata": {},
     "output_type": "execute_result"
    }
   ],
   "source": [
    "arr1 * arr2"
   ]
  },
  {
   "cell_type": "markdown",
   "id": "ee7ea04e-fc29-41b8-8bb7-fd192d953b30",
   "metadata": {},
   "source": [
    "#### Division"
   ]
  },
  {
   "cell_type": "code",
   "execution_count": 206,
   "id": "c3ba050f-95dd-4091-aca3-4ee5733329f8",
   "metadata": {},
   "outputs": [
    {
     "data": {
      "text/plain": [
       "array([[0.25      , 0.28571429, 0.33333333],\n",
       "       [1.33333333, 0.83333333, 0.75      ],\n",
       "       [7.        , 4.        , 1.8       ]])"
      ]
     },
     "execution_count": 206,
     "metadata": {},
     "output_type": "execute_result"
    }
   ],
   "source": [
    "arr1 / arr2"
   ]
  },
  {
   "cell_type": "markdown",
   "id": "60c09a7b-69bb-4bf5-b8d1-a091a039cbe9",
   "metadata": {},
   "source": [
    "## Question (8). Use NumPy to create a 5x5 identity matrix, then extract its diagonal elements."
   ]
  },
  {
   "cell_type": "markdown",
   "id": "92750d3c-b0f1-46da-929c-0790c1b0568f",
   "metadata": {},
   "source": [
    "### Answer : Use NumPy to create a 5x5 identity matrix"
   ]
  },
  {
   "cell_type": "markdown",
   "id": "f554aa8a-1015-41e0-a736-d503947b439e",
   "metadata": {},
   "source": [
    "#### Identity Matrix is a square matrix with a diagonal of ones and all other elements are Zero."
   ]
  },
  {
   "cell_type": "code",
   "execution_count": 213,
   "id": "dd30b633-430c-4a25-b96f-09d74f7f13ff",
   "metadata": {},
   "outputs": [
    {
     "data": {
      "text/plain": [
       "array([[1., 0., 0., 0., 0.],\n",
       "       [0., 1., 0., 0., 0.],\n",
       "       [0., 0., 1., 0., 0.],\n",
       "       [0., 0., 0., 1., 0.],\n",
       "       [0., 0., 0., 0., 1.]])"
      ]
     },
     "execution_count": 213,
     "metadata": {},
     "output_type": "execute_result"
    }
   ],
   "source": [
    "# Return a 2-D array with ones on the diagonal and zeros elsewhere.\n",
    "np.eye(5)"
   ]
  },
  {
   "cell_type": "code",
   "execution_count": 215,
   "id": "8a77ccb4-e276-4990-a7ba-f24f2777ba4e",
   "metadata": {},
   "outputs": [
    {
     "data": {
      "text/plain": [
       "array([[1, 0, 0, 0, 0],\n",
       "       [0, 1, 0, 0, 0],\n",
       "       [0, 0, 1, 0, 0],\n",
       "       [0, 0, 0, 1, 0],\n",
       "       [0, 0, 0, 0, 1]])"
      ]
     },
     "execution_count": 215,
     "metadata": {},
     "output_type": "execute_result"
    }
   ],
   "source": [
    "np.eye(5,dtype = int)"
   ]
  },
  {
   "cell_type": "code",
   "execution_count": 401,
   "id": "644be5ea-ab22-41a3-8f00-f6951b3ebaac",
   "metadata": {},
   "outputs": [],
   "source": [
    "identity_matrix = np.eye(5,dtype = int)"
   ]
  },
  {
   "cell_type": "code",
   "execution_count": 403,
   "id": "bedd927b-92d8-42f4-940d-6b897ae62af9",
   "metadata": {},
   "outputs": [
    {
     "data": {
      "text/plain": [
       "array([[1, 0, 0, 0, 0],\n",
       "       [0, 1, 0, 0, 0],\n",
       "       [0, 0, 1, 0, 0],\n",
       "       [0, 0, 0, 1, 0],\n",
       "       [0, 0, 0, 0, 1]])"
      ]
     },
     "execution_count": 403,
     "metadata": {},
     "output_type": "execute_result"
    }
   ],
   "source": [
    "identity_matrix"
   ]
  },
  {
   "cell_type": "markdown",
   "id": "7f38d551-4884-4046-bc21-e56313d96c6a",
   "metadata": {},
   "source": [
    "#### Extract its diagonal elements"
   ]
  },
  {
   "cell_type": "code",
   "execution_count": 405,
   "id": "8c58b9d9-45f9-43df-81b2-c8c5d2d6eb33",
   "metadata": {},
   "outputs": [],
   "source": [
    "diagonal_elements= np.diag(identity_matrix)"
   ]
  },
  {
   "cell_type": "code",
   "execution_count": 407,
   "id": "d27f4778-16e3-4f2e-ac93-9b6026e3d1fb",
   "metadata": {},
   "outputs": [
    {
     "data": {
      "text/plain": [
       "array([1, 1, 1, 1, 1])"
      ]
     },
     "execution_count": 407,
     "metadata": {},
     "output_type": "execute_result"
    }
   ],
   "source": [
    "diagonal_elements"
   ]
  },
  {
   "cell_type": "code",
   "execution_count": 409,
   "id": "a132d732-2382-420c-b211-d7ad5d2d8b19",
   "metadata": {},
   "outputs": [
    {
     "data": {
      "text/plain": [
       "(array([[1, 0, 0, 0, 0],\n",
       "        [0, 1, 0, 0, 0],\n",
       "        [0, 0, 1, 0, 0],\n",
       "        [0, 0, 0, 1, 0],\n",
       "        [0, 0, 0, 0, 1]]),\n",
       " array([1, 1, 1, 1, 1]))"
      ]
     },
     "execution_count": 409,
     "metadata": {},
     "output_type": "execute_result"
    }
   ],
   "source": [
    "identity_matrix,diagonal_elements"
   ]
  },
  {
   "cell_type": "code",
   "execution_count": null,
   "id": "84dff617-f027-4a02-99c5-122eff8a882d",
   "metadata": {},
   "outputs": [],
   "source": []
  },
  {
   "cell_type": "markdown",
   "id": "588259ae-0c3d-4db2-b52a-f4c693724c04",
   "metadata": {},
   "source": [
    "## Question (9) Generate a NumPy array of 100 random integers between 0 and 1000. Find and display all prime numbers in this array."
   ]
  },
  {
   "cell_type": "markdown",
   "id": "28ccdf95-8f67-447a-842a-1f76952582dd",
   "metadata": {},
   "source": [
    "### Answer : Generate a NumPy array of 100 random integers between 0 and 1000"
   ]
  },
  {
   "cell_type": "code",
   "execution_count": 249,
   "id": "4fa247d0-fe8a-4b7e-9a95-860db8570040",
   "metadata": {},
   "outputs": [
    {
     "data": {
      "text/plain": [
       "array([[779, 881,  26, 164, 444, 242, 815, 934, 749, 902],\n",
       "       [109, 361, 939, 780, 962, 563,  56, 644,  61, 204],\n",
       "       [452, 704, 827, 101, 707, 474, 544, 878, 562, 441],\n",
       "       [862, 378, 594, 507,  80,  83, 861, 967, 920, 730],\n",
       "       [541, 416, 620, 174, 769, 299, 419, 717, 975, 430],\n",
       "       [ 97, 446, 422, 774, 348, 561, 133,   1,  19, 196],\n",
       "       [871, 805, 880, 539, 912, 152, 227, 791,   2, 335],\n",
       "       [381, 143, 387, 281, 737, 849, 507,  95,  58, 212],\n",
       "       [711,  97, 447, 924, 437, 860, 589, 987,  72, 740],\n",
       "       [414, 828, 660, 469, 858, 657,  71, 303, 561,  23]])"
      ]
     },
     "execution_count": 249,
     "metadata": {},
     "output_type": "execute_result"
    }
   ],
   "source": [
    "np.random.randint(0,1000,size = (10,10))"
   ]
  },
  {
   "cell_type": "code",
   "execution_count": 380,
   "id": "ccf6dfcb-033d-483e-90e7-266336797650",
   "metadata": {},
   "outputs": [],
   "source": [
    "arr = np.random.randint(0,1000,size = (100))"
   ]
  },
  {
   "cell_type": "code",
   "execution_count": 382,
   "id": "190eee33-d2d8-4918-91b8-d75072189713",
   "metadata": {},
   "outputs": [
    {
     "data": {
      "text/plain": [
       "array([827,  22, 847, 244, 774, 265,  50, 615, 336, 948, 680, 745, 195,\n",
       "       924, 305, 235, 739, 120, 762,  95, 121, 549,  16, 476, 598, 352,\n",
       "       753, 469, 274, 679, 947, 869, 982,  12, 378, 352, 801, 533, 383,\n",
       "        20, 878, 748, 850, 647, 916, 986, 485, 604, 697, 755, 963, 634,\n",
       "       850, 261, 164, 763,  35,  95, 821, 225, 700, 334, 501, 433, 842,\n",
       "       985, 977, 948, 999, 204,  57, 276, 180, 693, 157, 489, 863, 354,\n",
       "       339, 837, 425, 785,  22, 378, 166, 554, 323, 819, 952, 418, 388,\n",
       "       941, 575, 736, 525, 409, 844, 760,  25, 726])"
      ]
     },
     "execution_count": 382,
     "metadata": {},
     "output_type": "execute_result"
    }
   ],
   "source": [
    "arr"
   ]
  },
  {
   "cell_type": "markdown",
   "id": "2f32ed0b-9329-4433-9d73-f0f56ea9c8f1",
   "metadata": {},
   "source": [
    "#### Display all prime numbers in this array"
   ]
  },
  {
   "cell_type": "code",
   "execution_count": 364,
   "id": "b43b6495-ddf7-4ea4-beac-5c11081bfcc5",
   "metadata": {},
   "outputs": [
    {
     "data": {
      "text/plain": [
       "2"
      ]
     },
     "execution_count": 364,
     "metadata": {},
     "output_type": "execute_result"
    }
   ],
   "source": [
    "arr.ndim"
   ]
  },
  {
   "cell_type": "code",
   "execution_count": 384,
   "id": "06af5dc7-e445-4f43-bcab-3e2b050838d9",
   "metadata": {},
   "outputs": [],
   "source": [
    "# Numpy has no built in function for finding prime number, so we can use additional libraries like :isprime() function of sympy library.\n",
    "from sympy import isprime\n",
    "# Find all prime numbers in this array\n",
    "\n",
    "prime_numbers = [num for num in arr if isprime(num)]"
   ]
  },
  {
   "cell_type": "code",
   "execution_count": 386,
   "id": "2cdc3f53-c990-4114-b7d8-63f2939ae622",
   "metadata": {},
   "outputs": [
    {
     "data": {
      "text/plain": [
       "(array([827,  22, 847, 244, 774, 265,  50, 615, 336, 948, 680, 745, 195,\n",
       "        924, 305, 235, 739, 120, 762,  95, 121, 549,  16, 476, 598, 352,\n",
       "        753, 469, 274, 679, 947, 869, 982,  12, 378, 352, 801, 533, 383,\n",
       "         20, 878, 748, 850, 647, 916, 986, 485, 604, 697, 755, 963, 634,\n",
       "        850, 261, 164, 763,  35,  95, 821, 225, 700, 334, 501, 433, 842,\n",
       "        985, 977, 948, 999, 204,  57, 276, 180, 693, 157, 489, 863, 354,\n",
       "        339, 837, 425, 785,  22, 378, 166, 554, 323, 819, 952, 418, 388,\n",
       "        941, 575, 736, 525, 409, 844, 760,  25, 726]),\n",
       " [827, 739, 947, 383, 647, 821, 433, 977, 157, 863, 941, 409])"
      ]
     },
     "execution_count": 386,
     "metadata": {},
     "output_type": "execute_result"
    }
   ],
   "source": [
    "arr,prime_numbers"
   ]
  },
  {
   "cell_type": "markdown",
   "id": "2dcb43dd-efa4-4f8f-bd3f-442cf0281cb7",
   "metadata": {},
   "source": [
    "## Question(10) Create a NumPy array representing daily temperatures for a month. Calculate and display the weekly averages."
   ]
  },
  {
   "cell_type": "markdown",
   "id": "b5abb4b8-82bb-4314-9c75-a3abce7faf70",
   "metadata": {},
   "source": [
    "### Answer : Create a NumPy array representing daily temperatures for a month"
   ]
  },
  {
   "cell_type": "code",
   "execution_count": 308,
   "id": "9237a2b1-a8cd-43a1-aee2-bab7b05e15d7",
   "metadata": {},
   "outputs": [
    {
     "data": {
      "text/plain": [
       "array([20.30131322, 26.98404982, 21.12411983, 28.66415051, 34.92178723,\n",
       "       21.86340889, 31.01993431, 38.4928812 , 31.57859186, 29.53609609,\n",
       "       21.57437333, 31.20043049, 35.73259246, 38.86428472, 25.00284387,\n",
       "       31.38401372, 28.74311286, 20.25771344, 25.90799526, 31.09860374,\n",
       "       27.66055151, 29.17909706, 25.14201056, 29.39880978, 30.04008689,\n",
       "       28.87198979, 32.95829724, 23.84514177, 27.41312439, 22.19152693])"
      ]
     },
     "execution_count": 308,
     "metadata": {},
     "output_type": "execute_result"
    }
   ],
   "source": [
    "#Draw samples from a uniform distribution.\n",
    "#Samples are uniformly distributed over the half-open interval[low, high] (includes low, but excludes high).\n",
    "#Create a NumPy array representing daily temperatures for a month (30 days).\n",
    "#Let Temperatures between 20 and 40 degrees\n",
    "\n",
    "np.random.uniform(low = 20,high = 40,size = 30)                              "
   ]
  },
  {
   "cell_type": "code",
   "execution_count": 322,
   "id": "6e68bb07-734d-4c57-a949-b1e5dd0ee9f6",
   "metadata": {},
   "outputs": [],
   "source": [
    "a = np.random.uniform(low = 20,high = 40,size = 30) "
   ]
  },
  {
   "cell_type": "code",
   "execution_count": 324,
   "id": "a056e210-7990-4bac-8e96-f688baaa5daa",
   "metadata": {},
   "outputs": [
    {
     "data": {
      "text/plain": [
       "array([35.52264322, 30.46471707, 21.54214735, 37.03314284, 38.27935402,\n",
       "       32.61176562, 36.4083413 , 29.60657805, 38.4762195 , 34.84522712,\n",
       "       25.39733728, 38.68351761, 20.60923229, 27.02463625, 35.4949011 ,\n",
       "       35.40670972, 27.2316378 , 39.61290677, 35.20890689, 27.25227138,\n",
       "       23.21081785, 32.53171847, 26.47434457, 21.25727072, 32.64375986,\n",
       "       32.28066841, 36.04844643, 39.21489168, 37.96268999, 27.23571536])"
      ]
     },
     "execution_count": 324,
     "metadata": {},
     "output_type": "execute_result"
    }
   ],
   "source": [
    "a"
   ]
  },
  {
   "cell_type": "code",
   "execution_count": 330,
   "id": "80b69c72-b4ad-48f6-942c-765a217003ed",
   "metadata": {},
   "outputs": [],
   "source": [
    "# Calculate weekly averages (assuming a week is 7 days).\n",
    "\n",
    "weekly_averages = [np.mean(a[i:i+7])   for i in range(0, len(a), 7)]"
   ]
  },
  {
   "cell_type": "code",
   "execution_count": 328,
   "id": "a7a727d5-9c5a-4f15-8286-9d125e398b16",
   "metadata": {},
   "outputs": [
    {
     "data": {
      "text/plain": [
       "(array([35.52264322, 30.46471707, 21.54214735, 37.03314284, 38.27935402,\n",
       "        32.61176562, 36.4083413 , 29.60657805, 38.4762195 , 34.84522712,\n",
       "        25.39733728, 38.68351761, 20.60923229, 27.02463625, 35.4949011 ,\n",
       "        35.40670972, 27.2316378 , 39.61290677, 35.20890689, 27.25227138,\n",
       "        23.21081785, 32.53171847, 26.47434457, 21.25727072, 32.64375986,\n",
       "        32.28066841, 36.04844643, 39.21489168, 37.96268999, 27.23571536]),\n",
       " [33.123158774385885,\n",
       "  30.663249728651326,\n",
       "  31.916878787369743,\n",
       "  31.493014305248543,\n",
       "  32.59920267645584])"
      ]
     },
     "execution_count": 328,
     "metadata": {},
     "output_type": "execute_result"
    }
   ],
   "source": [
    "a,weekly_averages"
   ]
  },
  {
   "cell_type": "code",
   "execution_count": null,
   "id": "247d3158-0392-4d40-ab28-a91e175bae49",
   "metadata": {},
   "outputs": [],
   "source": []
  },
  {
   "cell_type": "code",
   "execution_count": null,
   "id": "764c2298-0e1b-47eb-8712-a17c76c5cd2f",
   "metadata": {},
   "outputs": [],
   "source": []
  },
  {
   "cell_type": "code",
   "execution_count": null,
   "id": "c65bd7f2-863a-4024-898a-7ee3d0cbcf31",
   "metadata": {},
   "outputs": [],
   "source": []
  },
  {
   "cell_type": "code",
   "execution_count": null,
   "id": "8d390e72-b166-41d4-9bff-d206f05c3fe1",
   "metadata": {},
   "outputs": [],
   "source": []
  },
  {
   "cell_type": "code",
   "execution_count": null,
   "id": "a29ebb45-0eff-4347-bd16-29e0a81b4bbe",
   "metadata": {},
   "outputs": [],
   "source": []
  },
  {
   "cell_type": "code",
   "execution_count": null,
   "id": "64c21aab-9319-4ac6-86cb-34c899d97b6e",
   "metadata": {},
   "outputs": [],
   "source": []
  },
  {
   "cell_type": "code",
   "execution_count": null,
   "id": "109d67e0-fffc-4830-93af-21f5979c2dfd",
   "metadata": {},
   "outputs": [],
   "source": []
  },
  {
   "cell_type": "code",
   "execution_count": null,
   "id": "6e47d15a-b1e6-436d-ab28-7c220ac2c5c8",
   "metadata": {},
   "outputs": [],
   "source": []
  },
  {
   "cell_type": "code",
   "execution_count": null,
   "id": "37fe5947-656f-4720-ae3a-4867e61e2d38",
   "metadata": {},
   "outputs": [],
   "source": []
  }
 ],
 "metadata": {
  "kernelspec": {
   "display_name": "Python 3 (ipykernel)",
   "language": "python",
   "name": "python3"
  },
  "language_info": {
   "codemirror_mode": {
    "name": "ipython",
    "version": 3
   },
   "file_extension": ".py",
   "mimetype": "text/x-python",
   "name": "python",
   "nbconvert_exporter": "python",
   "pygments_lexer": "ipython3",
   "version": "3.12.4"
  }
 },
 "nbformat": 4,
 "nbformat_minor": 5
}
